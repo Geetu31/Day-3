{
 "cells": [
  {
   "cell_type": "code",
   "execution_count": 2,
   "id": "6715ee75",
   "metadata": {},
   "outputs": [
    {
     "name": "stdout",
     "output_type": "stream",
     "text": [
      "john kumar\n"
     ]
    }
   ],
   "source": [
    "fullname = \"john kumar\"\n",
    "print(fullname)"
   ]
  },
  {
   "cell_type": "code",
   "execution_count": 3,
   "id": "207f736f",
   "metadata": {},
   "outputs": [
    {
     "name": "stdout",
     "output_type": "stream",
     "text": [
      "John Kumar\n"
     ]
    }
   ],
   "source": [
    "print(fullname.title())"
   ]
  },
  {
   "cell_type": "code",
   "execution_count": 4,
   "id": "b718fd0f",
   "metadata": {},
   "outputs": [
    {
     "name": "stdout",
     "output_type": "stream",
     "text": [
      "JOHN KUMAR\n"
     ]
    }
   ],
   "source": [
    "print(fullname.upper())"
   ]
  },
  {
   "cell_type": "code",
   "execution_count": 5,
   "id": "277cbd79",
   "metadata": {},
   "outputs": [
    {
     "name": "stdout",
     "output_type": "stream",
     "text": [
      "john kumar\n"
     ]
    }
   ],
   "source": [
    "print(fullname.lower())"
   ]
  },
  {
   "cell_type": "code",
   "execution_count": 11,
   "id": "eba78395",
   "metadata": {},
   "outputs": [],
   "source": [
    "firstname = \"sham\"\n",
    "lastname  = \"soni\""
   ]
  },
  {
   "cell_type": "code",
   "execution_count": 7,
   "id": "e10f748d",
   "metadata": {},
   "outputs": [],
   "source": [
    "#to get the fullnmae"
   ]
  },
  {
   "cell_type": "code",
   "execution_count": 12,
   "id": "10461dbd",
   "metadata": {},
   "outputs": [
    {
     "name": "stdout",
     "output_type": "stream",
     "text": [
      "sham soni\n"
     ]
    }
   ],
   "source": [
    "fullname = f\"{firstname} {lastname}\"\n",
    "print(fullname)"
   ]
  },
  {
   "cell_type": "code",
   "execution_count": 13,
   "id": "fa53ae75",
   "metadata": {},
   "outputs": [
    {
     "name": "stdout",
     "output_type": "stream",
     "text": [
      "Sham Soni\n"
     ]
    }
   ],
   "source": [
    "print(fullname.title())\n"
   ]
  },
  {
   "cell_type": "code",
   "execution_count": 14,
   "id": "7ba6afa5",
   "metadata": {},
   "outputs": [
    {
     "name": "stdout",
     "output_type": "stream",
     "text": [
      "keep up the good work, Sham Soni\n"
     ]
    }
   ],
   "source": [
    "message = f\"keep up the good work, {fullname.title()}\"\n",
    "print(message)"
   ]
  },
  {
   "cell_type": "code",
   "execution_count": 15,
   "id": "b4a09555",
   "metadata": {},
   "outputs": [
    {
     "name": "stdout",
     "output_type": "stream",
     "text": [
      "favourite_language:pythoncjavac++pascal\n"
     ]
    }
   ],
   "source": [
    "print(\"favourite_language:pythoncjavac++pascal\")"
   ]
  },
  {
   "cell_type": "code",
   "execution_count": null,
   "id": "7db29c1d",
   "metadata": {},
   "outputs": [],
   "source": [
    "adding whitespaces to strings"
   ]
  },
  {
   "cell_type": "code",
   "execution_count": 18,
   "id": "2bd6f3a8",
   "metadata": {},
   "outputs": [
    {
     "name": "stdout",
     "output_type": "stream",
     "text": [
      "favourite_language:\n",
      "\tpython\n",
      "\tc\n",
      "\tjava\n",
      "\tc++\n",
      "\tpascal\n"
     ]
    }
   ],
   "source": [
    "print(\"favourite_language:\\n\\tpython\\n\\tc\\n\\tjava\\n\\tc++\\n\\tpascal\")"
   ]
  },
  {
   "cell_type": "code",
   "execution_count": 20,
   "id": "0b31927f",
   "metadata": {},
   "outputs": [],
   "source": [
    "#Removing whitespaces from string"
   ]
  },
  {
   "cell_type": "code",
   "execution_count": 23,
   "id": "a998e66b",
   "metadata": {},
   "outputs": [
    {
     "name": "stdout",
     "output_type": "stream",
     "text": [
      "     sdf\n"
     ]
    }
   ],
   "source": [
    "name1 =   '     sdf'#left side\n",
    "print(name1)"
   ]
  },
  {
   "cell_type": "code",
   "execution_count": 26,
   "id": "7fedc477",
   "metadata": {},
   "outputs": [
    {
     "name": "stdout",
     "output_type": "stream",
     "text": [
      "sdf     \n"
     ]
    }
   ],
   "source": [
    "name2 = 'sdf     '#right side\n",
    "print(name2)"
   ]
  },
  {
   "cell_type": "code",
   "execution_count": 27,
   "id": "13a0e107",
   "metadata": {},
   "outputs": [
    {
     "name": "stdout",
     "output_type": "stream",
     "text": [
      "sdf\n"
     ]
    }
   ],
   "source": [
    "print(name1.lstrip())"
   ]
  },
  {
   "cell_type": "code",
   "execution_count": 28,
   "id": "3a2b9abc",
   "metadata": {},
   "outputs": [
    {
     "name": "stdout",
     "output_type": "stream",
     "text": [
      "sdf\n"
     ]
    }
   ],
   "source": [
    "print(name2.rstrip())"
   ]
  },
  {
   "cell_type": "code",
   "execution_count": 29,
   "id": "14a6aa26",
   "metadata": {},
   "outputs": [
    {
     "name": "stdout",
     "output_type": "stream",
     "text": [
      "xyz\n"
     ]
    }
   ],
   "source": [
    "name3 = '    xyz    '\n",
    "print(name3.strip())"
   ]
  },
  {
   "cell_type": "code",
   "execution_count": null,
   "id": "30f6bd90",
   "metadata": {},
   "outputs": [],
   "source": []
  }
 ],
 "metadata": {
  "kernelspec": {
   "display_name": "Python 3",
   "language": "python",
   "name": "python3"
  },
  "language_info": {
   "codemirror_mode": {
    "name": "ipython",
    "version": 3
   },
   "file_extension": ".py",
   "mimetype": "text/x-python",
   "name": "python",
   "nbconvert_exporter": "python",
   "pygments_lexer": "ipython3",
   "version": "3.8.8"
  }
 },
 "nbformat": 4,
 "nbformat_minor": 5
}
